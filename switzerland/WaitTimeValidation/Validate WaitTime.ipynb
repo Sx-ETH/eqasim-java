{
 "cells": [
  {
   "cell_type": "code",
   "execution_count": 1,
   "id": "65312c05",
   "metadata": {},
   "outputs": [],
   "source": [
    "import pandas as pd\n",
    "import numpy as np\n",
    "import os"
   ]
  },
  {
   "cell_type": "code",
   "execution_count": 2,
   "id": "5f8fb2bb",
   "metadata": {},
   "outputs": [],
   "source": [
    "output_directory = '/Users/francescmartiescofet/Documents/ETH/IVT/eqasim-java/switzerland/SA_scenario_output'\n",
    "last_iter = 5"
   ]
  },
  {
   "cell_type": "code",
   "execution_count": 3,
   "id": "ee879485",
   "metadata": {},
   "outputs": [],
   "source": [
    "global_avg = []\n",
    "global_moving_avg = []\n",
    "global_successive_avg = []\n",
    "zonal_avg = []\n",
    "drt_legs = []\n",
    "for i in range(last_iter + 1):\n",
    "    iter_path = os.path.join(output_directory,'testDrtZones','ITERS','it.' + str(i)) + \\\n",
    "                '/' + str(i) + '.'\n",
    "    global_avg.append(pd.read_csv(iter_path + 'DrtWaitTimeGlobalAvg.csv', sep=';'))\n",
    "    global_moving_avg.append(pd.read_csv(iter_path + 'DrtWaitTimeGlobalMovingAvg.csv', sep=';'))\n",
    "    global_successive_avg.append(pd.read_csv(iter_path + 'DrtWaitTimeGlobalSuccessiveAvg.csv', sep=';'))\n",
    "    zonal_avg.append(pd.read_csv(iter_path + 'DrtWaitTimes.csv', sep=';'))\n",
    "    drt_legs.append(pd.read_csv(iter_path + 'drt_legs_drt.csv', sep=';'))\n",
    "\n",
    "link2zones_csv = pd.read_csv(os.path.join(output_directory,'testDrtZones','drt_WayneCountyLink2Zones.csv'), sep=';')\n",
    "link2zones_csv = link2zones_csv.set_index('link_id')"
   ]
  },
  {
   "cell_type": "code",
   "execution_count": 4,
   "id": "8aa5d600",
   "metadata": {},
   "outputs": [],
   "source": [
    "link2zones = {}\n",
    "for link_id, zone in link2zones_csv.iterrows():\n",
    "    link2zones[link_id] = zone.zone.item()"
   ]
  },
  {
   "cell_type": "code",
   "execution_count": 5,
   "id": "16cabf93",
   "metadata": {},
   "outputs": [],
   "source": [
    "def check_global_avg(global_avg, drt_legs):\n",
    "    for it, (it_global_avg, it_drt_legs) in enumerate(zip(global_avg, drt_legs)):\n",
    "        print('Iteration ' + str(it))\n",
    "        print('Global avg: ' + str(it_global_avg['avg'][0]))\n",
    "        print('Average from legs: ' + str(it_drt_legs.waitTime.mean()))\n",
    "        print('\\n')"
   ]
  },
  {
   "cell_type": "code",
   "execution_count": 6,
   "id": "9b4e15ac",
   "metadata": {},
   "outputs": [
    {
     "name": "stdout",
     "output_type": "stream",
     "text": [
      "Iteration 0\n",
      "Global avg: nan\n",
      "Average from legs: nan\n",
      "\n",
      "\n",
      "Iteration 1\n",
      "Global avg: 70.625\n",
      "Average from legs: 70.625\n",
      "\n",
      "\n",
      "Iteration 2\n",
      "Global avg: 70.56410256410257\n",
      "Average from legs: 70.56410256410257\n",
      "\n",
      "\n",
      "Iteration 3\n",
      "Global avg: 71.62745098039215\n",
      "Average from legs: 71.62745098039215\n",
      "\n",
      "\n",
      "Iteration 4\n",
      "Global avg: 71.70666666666666\n",
      "Average from legs: 71.70666666666666\n",
      "\n",
      "\n",
      "Iteration 5\n",
      "Global avg: 73.35483870967742\n",
      "Average from legs: 73.35483870967742\n",
      "\n",
      "\n"
     ]
    }
   ],
   "source": [
    "check_global_avg(global_avg, drt_legs)"
   ]
  },
  {
   "cell_type": "code",
   "execution_count": 7,
   "id": "d278313a",
   "metadata": {},
   "outputs": [],
   "source": [
    "def check_global_moving_window_avg(global_moving_avg, drt_legs, moving_window):\n",
    "    for it, it_global_moving_avg in enumerate(global_moving_avg):\n",
    "        start = 0\n",
    "        if it >= moving_window:\n",
    "            start = it - moving_window + 1\n",
    "        it_drt_legs = pd.concat([drt_legs[j] for j in range(start, it+1)])\n",
    "        print('Iteration ' + str(it))\n",
    "        print('Global moving avg: ' + str(it_global_moving_avg['avg'][0]))\n",
    "        print('Average from legs: ' + str(it_drt_legs.waitTime.mean()))\n",
    "        print('\\n')\n",
    "        "
   ]
  },
  {
   "cell_type": "code",
   "execution_count": 8,
   "id": "785f7bc2",
   "metadata": {},
   "outputs": [
    {
     "name": "stdout",
     "output_type": "stream",
     "text": [
      "Iteration 0\n",
      "Global moving avg: nan\n",
      "Average from legs: nan\n",
      "\n",
      "\n",
      "Iteration 1\n",
      "Global moving avg: 70.625\n",
      "Average from legs: 70.625\n",
      "\n",
      "\n",
      "Iteration 2\n",
      "Global moving avg: 70.58730158730158\n",
      "Average from legs: 70.58730158730158\n",
      "\n",
      "\n",
      "Iteration 3\n",
      "Global moving avg: 71.16666666666667\n",
      "Average from legs: 71.16666666666667\n",
      "\n",
      "\n",
      "Iteration 4\n",
      "Global moving avg: 71.67460317460318\n",
      "Average from legs: 71.67460317460318\n",
      "\n",
      "\n",
      "Iteration 5\n",
      "Global moving avg: 72.61904761904762\n",
      "Average from legs: 72.61904761904762\n",
      "\n",
      "\n"
     ]
    }
   ],
   "source": [
    "check_global_moving_window_avg(global_moving_avg, drt_legs, 2)"
   ]
  },
  {
   "cell_type": "code",
   "execution_count": 9,
   "id": "2e2eb0cc",
   "metadata": {},
   "outputs": [],
   "source": [
    "def check_global_successive_avg(global_successive_avg, drt_legs, weight):\n",
    "    iters_avg = []\n",
    "    for it_drt_leg in drt_legs:\n",
    "        iters_avg.append(it_drt_leg.waitTime.mean())\n",
    "    print(iters_avg)\n",
    "    iters_successive_avg = []\n",
    "    for it in range(len(iters_avg)):\n",
    "        if it == 0:\n",
    "            iters_successive_avg.append(iters_avg[it])\n",
    "            continue\n",
    "        previous_avg = iters_successive_avg[it-1]\n",
    "        if np.isnan(previous_avg):\n",
    "            iters_successive_avg.append(iters_avg[it])\n",
    "            continue\n",
    "        iters_successive_avg.append((1-weight) * previous_avg + weight * iters_avg[it])\n",
    "            \n",
    "    for it, it_global_successive_avg in enumerate(global_successive_avg):\n",
    "        print('Iteration ' + str(it))\n",
    "        print('Global successive avg: ' + str(it_global_successive_avg['avg'][0]))\n",
    "        print('Average from legs: ' + str(iters_successive_avg[it]))\n",
    "        print('\\n')"
   ]
  },
  {
   "cell_type": "code",
   "execution_count": 10,
   "id": "a3b2217b",
   "metadata": {},
   "outputs": [
    {
     "name": "stdout",
     "output_type": "stream",
     "text": [
      "[nan, 70.625, 70.56410256410257, 71.62745098039215, 71.70666666666666, 73.35483870967742]\n",
      "Iteration 0\n",
      "Global successive avg: nan\n",
      "Average from legs: nan\n",
      "\n",
      "\n",
      "Iteration 1\n",
      "Global successive avg: 70.625\n",
      "Average from legs: 70.625\n",
      "\n",
      "\n",
      "Iteration 2\n",
      "Global successive avg: 70.59455128205128\n",
      "Average from legs: 70.59455128205128\n",
      "\n",
      "\n",
      "Iteration 3\n",
      "Global successive avg: 71.11100113122171\n",
      "Average from legs: 71.11100113122171\n",
      "\n",
      "\n",
      "Iteration 4\n",
      "Global successive avg: 71.40883389894418\n",
      "Average from legs: 71.40883389894418\n",
      "\n",
      "\n",
      "Iteration 5\n",
      "Global successive avg: 72.38183630431081\n",
      "Average from legs: 72.38183630431081\n",
      "\n",
      "\n"
     ]
    }
   ],
   "source": [
    "check_global_successive_avg(global_successive_avg, drt_legs, 0.5)"
   ]
  },
  {
   "cell_type": "code",
   "execution_count": 11,
   "id": "6c9077b4",
   "metadata": {},
   "outputs": [],
   "source": [
    "def check_zonal_avg(zonal_avg, drt_legs, link2zones, iter_to_check, time_bins = 100):\n",
    "    \n",
    "    it_zonal_avg = zonal_avg[iter_to_check].copy()\n",
    "    it_drt_legs = drt_legs[iter_to_check].copy()\n",
    "    print(it_zonal_avg.shape)\n",
    "    print(it_drt_legs.shape)\n",
    "    hour_bins = [i*3600 for i in range(0,time_bins)]\n",
    "    it_drt_legs['time_bin'] = pd.cut(it_drt_legs.departureTime, hour_bins)\n",
    "    it_drt_legs['zone'] = it_drt_legs['fromLinkId'].map(link2zones)\n",
    "    it_drt_legs.groupby(['zone','time_bin']).waitTime.mean()\n",
    "    # Checked some random zones and the avg times match\n",
    "    print(it_drt_legs.groupby(['zone','time_bin']).waitTime.mean()[113934].iloc[:20])\n",
    "    print(it_zonal_avg[it_zonal_avg.zone == 113934].iloc[:,:20])"
   ]
  },
  {
   "cell_type": "code",
   "execution_count": 12,
   "id": "e4652b04",
   "metadata": {},
   "outputs": [
    {
     "name": "stdout",
     "output_type": "stream",
     "text": [
      "(31, 101)\n",
      "(24, 17)\n",
      "time_bin\n",
      "(0, 3600]           NaN\n",
      "(3600, 7200]        NaN\n",
      "(7200, 10800]       NaN\n",
      "(10800, 14400]      NaN\n",
      "(14400, 18000]      NaN\n",
      "(18000, 21600]      NaN\n",
      "(21600, 25200]      NaN\n",
      "(25200, 28800]      NaN\n",
      "(28800, 32400]    109.0\n",
      "(32400, 36000]      NaN\n",
      "(36000, 39600]      NaN\n",
      "(39600, 43200]      NaN\n",
      "(43200, 46800]     61.0\n",
      "(46800, 50400]      NaN\n",
      "(50400, 54000]      NaN\n",
      "(54000, 57600]      NaN\n",
      "(57600, 61200]      NaN\n",
      "(61200, 64800]      NaN\n",
      "(64800, 68400]      NaN\n",
      "(68400, 72000]      NaN\n",
      "Name: waitTime, dtype: float64\n",
      "     zone    0    1    2    3    4    5    6    7      8    9   10   11    12  \\\n",
      "5  113934  0.0  0.0  0.0  0.0  0.0  0.0  0.0  0.0  109.0  0.0  0.0  0.0  61.0   \n",
      "\n",
      "    13   14   15   16   17   18  \n",
      "5  0.0  0.0  0.0  0.0  0.0  0.0  \n"
     ]
    }
   ],
   "source": [
    "check_zonal_avg(zonal_avg, drt_legs, link2zones, 1)"
   ]
  }
 ],
 "metadata": {
  "kernelspec": {
   "display_name": "Python [conda env:IVT]",
   "language": "python",
   "name": "conda-env-IVT-py"
  },
  "language_info": {
   "codemirror_mode": {
    "name": "ipython",
    "version": 3
   },
   "file_extension": ".py",
   "mimetype": "text/x-python",
   "name": "python",
   "nbconvert_exporter": "python",
   "pygments_lexer": "ipython3",
   "version": "3.10.7"
  }
 },
 "nbformat": 4,
 "nbformat_minor": 5
}
